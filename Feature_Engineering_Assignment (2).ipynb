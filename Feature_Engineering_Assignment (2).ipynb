{
  "nbformat": 4,
  "nbformat_minor": 0,
  "metadata": {
    "colab": {
      "provenance": []
    },
    "kernelspec": {
      "name": "python3",
      "display_name": "Python 3"
    },
    "language_info": {
      "name": "python"
    }
  },
  "cells": [
    {
      "cell_type": "markdown",
      "source": [
        "# What is a parameter?\n",
        "The Machine learning a parameter is an internal variable within a model that is learned from the data during training and its values are adjusted to improve the model performance."
      ],
      "metadata": {
        "id": "F5Q--BCAMGdg"
      }
    },
    {
      "cell_type": "markdown",
      "source": [
        "# What is correlation?\n",
        "# What does negative correlation mean?\n",
        "The machine learning correlation is  refers to a statistical measure that indicates the strength and direction of the linear relationship between two variables. the machine learning negative correlation  between two variables means that as one variable increases, the other tends to decrease."
      ],
      "metadata": {
        "id": "Nn_HStyiMMXQ"
      }
    },
    {
      "cell_type": "markdown",
      "source": [
        "# Define Machine Learning. What are the main components in Machine Learning?\n",
        "Machine learning  is a subset of artificial intelligenc that enables computers to learn from data without being explicitly programmed. It involves algorithms and models that can improve with experience and data exposure allowing them to make predictions and decisions autonomously. The main components of machine learning include data algorithms models and predictions"
      ],
      "metadata": {
        "id": "iaHiV0JPMRL0"
      }
    },
    {
      "cell_type": "markdown",
      "source": [
        "# How does loss value help in determining whether the model is good or not?\n",
        "The machine learning loss value is a crucial metric that quantifies the difference between a model  predictions and the actual values. a lower loss value generally indicates a better performing model meaning its predictions are closer to the ground truth.\n",
        "\n",
        "\n",
        "\n"
      ],
      "metadata": {
        "id": "nJQCudfpMZyO"
      }
    },
    {
      "cell_type": "markdown",
      "source": [
        "# What are continuous and categorical variables?\n",
        "Continuous variables can take on any value within a specified range while categorical variables represent distinct categories or groups."
      ],
      "metadata": {
        "id": "poRG3TU6Mxms"
      }
    },
    {
      "cell_type": "markdown",
      "source": [
        "# How do we handle categorical variables in Machine Learning? What are the common techniques?\n",
        "Categorical variables in machine learning are handled by converting them into a numerical format that models can understand.\n",
        "Common techniques encompass a wide range of strategies used in various fields to achieve specific goals. In literature, they include devices like metaphor, simile, personification, and onomatopoeia, which enhance writing and create vivid imagery."
      ],
      "metadata": {
        "id": "bHSYxEtlM23I"
      }
    },
    {
      "cell_type": "markdown",
      "source": [
        "# What do you mean by training and testing a dataset?\n",
        "the context of machine learning, \"training\" and \"testing\" a dataset refer to splitting a dataset into two parts: a training set and a testing set."
      ],
      "metadata": {
        "id": "WR_BvbxPNCGK"
      }
    },
    {
      "cell_type": "markdown",
      "source": [
        "# What is sklearn.preprocessing?\n",
        "sklearn.preprocessing is a module in the scikit-learn library in Python that provides a variety of functions and classes for transforming raw data into a format suitable for machine learning algorithms. This process, known as data preprocessing, is a crucial step in any machine learning workflow"
      ],
      "metadata": {
        "id": "Jeo0qH0lNGOA"
      }
    },
    {
      "cell_type": "markdown",
      "source": [
        "# What is a Test set?\n",
        "A test set is a portion of a dataset used to evaluate the performance of a machine learning model after it has been trained."
      ],
      "metadata": {
        "id": "TWTgdNSxNKZm"
      }
    },
    {
      "cell_type": "markdown",
      "source": [
        "# How do we split data for model fitting (training and testing) in Python?\n",
        "Python, data is typically split for training and testing using the train_test_split function from the scikit-learn library. This function divides your data into training and testing sets, enabling you to train your model on the training data and evaluate its performance on the unseen testing data\n",
        "# How do you approach a Machine Learning problem?\n",
        "A structured approach is crucial for tackling a machine learning problem. This involves defining the problem, collecting and preparing data, choosing an appropriate model, training and evaluating it, and finally, deploying and monitoring the model."
      ],
      "metadata": {
        "id": "8nhTIx4TNSPl"
      }
    },
    {
      "cell_type": "markdown",
      "source": [
        "# Why do we have to perform EDA before fitting a model to the data?\n",
        "Data Analysis (EDA) before model fitting is crucial for several reasons. It helps understand the dataset's characteristics, identify potential problems, and guide data preparation for more effective model building."
      ],
      "metadata": {
        "id": "V_PrB6-zNXcP"
      }
    },
    {
      "cell_type": "markdown",
      "source": [
        "# What is correlation?\n",
        "Correlation is a statistical measure that expresses the extent to which two variables are linearly related. It's a common tool for describing simple relationships without making a statement about cause and effect."
      ],
      "metadata": {
        "id": "9q2JKNiyNbof"
      }
    },
    {
      "cell_type": "markdown",
      "source": [
        "# What does negative correlation mean?\n",
        "A negative correlation, also known as an inverse correlation, means that as one variable increases, the other variable decreases, and vice versa."
      ],
      "metadata": {
        "id": "A0lA-MfWNeth"
      }
    },
    {
      "cell_type": "markdown",
      "source": [
        "# How can you find correlation between variables in Python?\n",
        "The corrcoef() function, you need to pass in two arrays of data, one for each variable. The function will return a correlation matrix, which is a square matrix where the diagonal elements are always 1 and the off-diagonal elements indicate the correlations between different variables."
      ],
      "metadata": {
        "id": "V9xeVuzMNjaj"
      }
    },
    {
      "cell_type": "markdown",
      "source": [
        "# What is causation? Explain difference between correlation and causation with an example.\n",
        "Causation means one event directly causes another while correlation indicates a relationship between two events without implying one causes the other."
      ],
      "metadata": {
        "id": "z8JeiC1dNl_z"
      }
    },
    {
      "cell_type": "markdown",
      "source": [
        "# What is an Optimizer? What are different types of optimizers? Explain each with an example\n",
        "optimizer is an algorithm that adjusts a machine learning model's parameters (like weights and biases) to minimize the loss function during training, aiming to improve the model's accuracy."
      ],
      "metadata": {
        "id": "4LyudxAnNthD"
      }
    },
    {
      "cell_type": "markdown",
      "source": [
        "# What is sklearn.linear_model ?\n",
        "sklearn.linear_model is a module in the scikit-learn (sklearn) library, a popular Python library for machine learning. It provides a collection of linear models for regression and classification tasks."
      ],
      "metadata": {
        "id": "ZdbmaQZ_NxIh"
      }
    },
    {
      "cell_type": "markdown",
      "source": [
        "# What does model.fit() do? What arguments must be given?\n",
        "The model.fit() function in machine learning is used to train a model with provided data. This process involves adjusting the model's internal parameters, such as weights and biases, to minimize a loss function, typically using optimization techniques like Gradient Descent. The function iterates through the data in batches for a specified number of epochs."
      ],
      "metadata": {
        "id": "18VTIBbbN0w_"
      }
    },
    {
      "cell_type": "markdown",
      "source": [
        "# What does model.predict() do? What arguments must be given?\n",
        " The model. predict() is used to generate predictions from the trained model based on new input data."
      ],
      "metadata": {
        "id": "BQpjEg4PN3au"
      }
    },
    {
      "cell_type": "markdown",
      "source": [
        "# What are continuous and categorical variables?\n",
        "statistics and data analysis, variables can be broadly classified as either continuous or categorical. Continuous variables can take on any value within a specified range, while categorical variables represent distinct categories or groups"
      ],
      "metadata": {
        "id": "H9gLrihaN6va"
      }
    },
    {
      "cell_type": "markdown",
      "source": [
        "# What is feature scaling? How does it help in Machine Learning?\n",
        "Feature Scaling In Machine Learning: What Is It?Feature scaling is a data preprocessing technique that transforms the numerical values of features in a dataset to a common scale."
      ],
      "metadata": {
        "id": "R5moc7EiN-My"
      }
    },
    {
      "cell_type": "markdown",
      "source": [
        "# How do we perform scaling in Python?\n",
        "Data scaling in Python is a preprocessing technique used to standardize the range of independent variables or features of a data set. It is important because it ensures that no single feature dominates the distance calculations in an algorithm and can help to improve the performance of the algorithm. Here are some common methods for scaling data in Python"
      ],
      "metadata": {
        "id": "ta0v4L1YOBDw"
      }
    },
    {
      "cell_type": "markdown",
      "source": [
        "# What is sklearn.preprocessing?\n",
        "sklearn.preprocessing is a module in the scikit-learn library in Python that provides functions and classes for transforming raw data into a format suitable for machine learning models. It is a crucial step in the machine learning pipeline as raw data often contains inconsistencies, errors, and irrelevant information that can negatively impact model performance"
      ],
      "metadata": {
        "id": "16USV07HOEVq"
      }
    },
    {
      "cell_type": "markdown",
      "source": [
        "# How do we split data for model fitting (training and testing) in Python?\n",
        "The Python, data is typically split for training and testing using the train_test_split function from the scikit-learn library. This function divides your data into training and testing sets, enabling you to train your model on the training data and evaluate its performance on the unseen testing data"
      ],
      "metadata": {
        "id": "ICiYaDPAOIBj"
      }
    },
    {
      "cell_type": "markdown",
      "source": [
        "# Explain data encoding?\n",
        "Data Encoding Explained, Different Types & How To ExamplesData encoding is the process of converting information or data from one form to another, typically for the purpose of efficient storage, transmission, or analysis."
      ],
      "metadata": {
        "id": "JPovgCCdOLdA"
      }
    }
  ]
}